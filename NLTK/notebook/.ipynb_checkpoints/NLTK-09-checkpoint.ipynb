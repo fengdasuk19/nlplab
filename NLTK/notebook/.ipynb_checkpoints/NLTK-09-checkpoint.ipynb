{
 "cells": [
  {
   "cell_type": "markdown",
   "metadata": {},
   "source": [
    "# NLTK09: 构建基于语法的特征"
   ]
  },
  {
   "cell_type": "markdown",
   "metadata": {},
   "source": [
    "## 本章问题翻译\n",
    "\n",
    "1. 如何扩展**上下文无关语法**，以更精准地控制语法类和产物（？）\n",
    "2. **特征结构**的主要形式化性质有哪些，如何用于计算？\n",
    "3. 我们能从**基于语法的特征**中捕捉到哪些语言模式、语法结构？"
   ]
  },
  {
   "cell_type": "code",
   "execution_count": null,
   "metadata": {
    "collapsed": true
   },
   "outputs": [],
   "source": []
  }
 ],
 "metadata": {
  "kernelspec": {
   "display_name": "Python 3",
   "language": "python",
   "name": "python3"
  },
  "language_info": {
   "codemirror_mode": {
    "name": "ipython",
    "version": 3
   },
   "file_extension": ".py",
   "mimetype": "text/x-python",
   "name": "python",
   "nbconvert_exporter": "python",
   "pygments_lexer": "ipython3",
   "version": "3.6.1"
  }
 },
 "nbformat": 4,
 "nbformat_minor": 2
}
